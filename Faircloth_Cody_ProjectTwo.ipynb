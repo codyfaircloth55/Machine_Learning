{
 "cells": [
  {
   "cell_type": "markdown",
   "metadata": {},
   "source": [
    "# Treasure Hunt Game Notebook\n",
    "\n",
    "## Read and Review Your Starter Code\n",
    "The theme of this project is a popular treasure hunt game in which the player needs to find the treasure before the pirate does. While you will not be developing the entire game, you will write the part of the game that represents the intelligent agent, which is a pirate in this case. The pirate will try to find the optimal path to the treasure using deep Q-learning. \n",
    "\n",
    "You have been provided with two Python classes and this notebook to help you with this assignment. The first class, TreasureMaze.py, represents the environment, which includes a maze object defined as a matrix. The second class, GameExperience.py, stores the episodes – that is, all the states that come in between the initial state and the terminal state. This is later used by the agent for learning by experience, called \"exploration\". This notebook shows how to play a game. Your task is to complete the deep Q-learning implementation for which a skeleton implementation has been provided. The code blocks you will need to complete has #TODO as a header.\n",
    "\n",
    "First, read and review the next few code and instruction blocks to understand the code that you have been given."
   ]
  },
  {
   "cell_type": "code",
   "execution_count": 43,
   "metadata": {},
   "outputs": [],
   "source": [
    "from __future__ import print_function\n",
    "import os, sys, time, datetime, json, random\n",
    "import numpy as np\n",
    "from keras.models import Sequential\n",
    "from keras.layers.core import Dense, Activation\n",
    "from keras.optimizers import SGD , Adam, RMSprop\n",
    "from keras.layers.advanced_activations import PReLU\n",
    "import matplotlib.pyplot as plt\n",
    "from TreasureMaze import TreasureMaze\n",
    "from GameExperience import GameExperience\n",
    "%matplotlib inline"
   ]
  },
  {
   "cell_type": "markdown",
   "metadata": {},
   "source": [
    "The following code block contains an 8x8 matrix that will be used as a maze object:"
   ]
  },
  {
   "cell_type": "code",
   "execution_count": 44,
   "metadata": {},
   "outputs": [],
   "source": [
    "maze = np.array([\n",
    "    [ 1.,  0.,  1.,  1.,  1.,  1.,  1.,  1.],\n",
    "    [ 1.,  0.,  1.,  1.,  1.,  0.,  1.,  1.],\n",
    "    [ 1.,  1.,  1.,  1.,  0.,  1.,  0.,  1.],\n",
    "    [ 1.,  1.,  1.,  0.,  1.,  1.,  1.,  1.],\n",
    "    [ 1.,  1.,  0.,  1.,  1.,  1.,  1.,  1.],\n",
    "    [ 1.,  1.,  1.,  0.,  1.,  0.,  0.,  0.],\n",
    "    [ 1.,  1.,  1.,  0.,  1.,  1.,  1.,  1.],\n",
    "    [ 1.,  1.,  1.,  1.,  0.,  1.,  1.,  1.]\n",
    "])"
   ]
  },
  {
   "cell_type": "markdown",
   "metadata": {},
   "source": [
    "This helper function allows a visual representation of the maze object:"
   ]
  },
  {
   "cell_type": "code",
   "execution_count": 45,
   "metadata": {},
   "outputs": [],
   "source": [
    "def show(qmaze):\n",
    "    plt.grid('on')\n",
    "    nrows, ncols = qmaze.maze.shape\n",
    "    ax = plt.gca()\n",
    "    ax.set_xticks(np.arange(0.5, nrows, 1))\n",
    "    ax.set_yticks(np.arange(0.5, ncols, 1))\n",
    "    ax.set_xticklabels([])\n",
    "    ax.set_yticklabels([])\n",
    "    canvas = np.copy(qmaze.maze)\n",
    "    for row,col in qmaze.visited:\n",
    "        canvas[row,col] = 0.6\n",
    "    pirate_row, pirate_col, _ = qmaze.state\n",
    "    canvas[pirate_row, pirate_col] = 0.3   # pirate cell\n",
    "    canvas[nrows-1, ncols-1] = 0.9 # treasure cell\n",
    "    img = plt.imshow(canvas, interpolation='none', cmap='gray')\n",
    "    return img"
   ]
  },
  {
   "cell_type": "markdown",
   "metadata": {},
   "source": [
    "The pirate agent can move in four directions: left, right, up, and down. \n",
    "\n",
    "While the agent primarily learns by experience through exploitation, often, the agent can choose to explore the environment to find previously undiscovered paths. This is called \"exploration\" and is defined by epsilon. This value is typically a lower value such as 0.1, which means for every ten attempts, the agent will attempt to learn by experience nine times and will randomly explore a new path one time. You are encouraged to try various values for the exploration factor and see how the algorithm performs."
   ]
  },
  {
   "cell_type": "code",
   "execution_count": 46,
   "metadata": {},
   "outputs": [],
   "source": [
    "LEFT = 0\n",
    "UP = 1\n",
    "RIGHT = 2\n",
    "DOWN = 3\n",
    "\n",
    "\n",
    "# Exploration factor\n",
    "epsilon = 0.1\n",
    "\n",
    "# Actions dictionary\n",
    "actions_dict = {\n",
    "    LEFT: 'left',\n",
    "    UP: 'up',\n",
    "    RIGHT: 'right',\n",
    "    DOWN: 'down',\n",
    "}\n",
    "\n",
    "num_actions = len(actions_dict)\n"
   ]
  },
  {
   "cell_type": "markdown",
   "metadata": {},
   "source": [
    "The sample code block and output below show creating a maze object and performing one action (DOWN), which returns the reward. The resulting updated environment is visualized."
   ]
  },
  {
   "cell_type": "code",
   "execution_count": 47,
   "metadata": {},
   "outputs": [
    {
     "name": "stdout",
     "output_type": "stream",
     "text": [
      "reward= -0.04\n"
     ]
    },
    {
     "data": {
      "text/plain": [
       "<matplotlib.image.AxesImage at 0x22189f19c88>"
      ]
     },
     "execution_count": 47,
     "metadata": {},
     "output_type": "execute_result"
    },
    {
     "data": {
      "image/png": "[encoded data removed]",
      "text/plain": [
       "<Figure size 432x288 with 1 Axes>"
      ]
     },
     "metadata": {
      "needs_background": "light"
     },
     "output_type": "display_data"
    }
   ],
   "source": [
    "qmaze = TreasureMaze(maze)\n",
    "canvas, reward, game_over = qmaze.act(DOWN)\n",
    "print(\"reward=\", reward)\n",
    "show(qmaze)"
   ]
  },
  {
   "cell_type": "markdown",
   "metadata": {},
   "source": [
    "This function simulates a full game based on the provided trained model. The other parameters include the TreasureMaze object and the starting position of the pirate."
   ]
  },
  {
   "cell_type": "code",
   "execution_count": 48,
   "metadata": {},
   "outputs": [],
   "source": [
    "def play_game(model, qmaze, pirate_cell):\n",
    "    qmaze.reset(pirate_cell)\n",
    "    envstate = qmaze.observe()\n",
    "    while True:\n",
    "        prev_envstate = envstate\n",
    "        # get next action\n",
    "        q = model.predict(prev_envstate)\n",
    "        action = np.argmax(q[0])\n",
    "\n",
    "        # apply action, get rewards and new state\n",
    "        envstate, reward, game_status = qmaze.act(action)\n",
    "        if game_status == 'win':\n",
    "            return True\n",
    "        elif game_status == 'lose':\n",
    "            return False"
   ]
  },
  {
   "cell_type": "markdown",
   "metadata": {},
   "source": [
    "This function helps you to determine whether the pirate can win any game at all. If your maze is not well designed, the pirate may not win any game at all. In this case, your training would not yield any result. The provided maze in this notebook ensures that there is a path to win and you can run this method to check."
   ]
  },
  {
   "cell_type": "code",
   "execution_count": 49,
   "metadata": {},
   "outputs": [],
   "source": [
    "def completion_check(model, qmaze):\n",
    "    for cell in qmaze.free_cells:\n",
    "        if not qmaze.valid_actions(cell):\n",
    "            return False\n",
    "        if not play_game(model, qmaze, cell):\n",
    "            return False\n",
    "    return True"
   ]
  },
  {
   "cell_type": "markdown",
   "metadata": {},
   "source": [
    "The code you have been given in this block will build the neural network model. Review the code and note the number of layers, as well as the activation, optimizer, and loss functions that are used to train the model."
   ]
  },
  {
   "cell_type": "code",
   "execution_count": 50,
   "metadata": {},
   "outputs": [],
   "source": [
    "def build_model(maze):\n",
    "    model = Sequential()\n",
    "    model.add(Dense(maze.size, input_shape=(maze.size,)))\n",
    "    model.add(PReLU())\n",
    "    model.add(Dense(maze.size))\n",
    "    model.add(PReLU())\n",
    "    model.add(Dense(num_actions))\n",
    "    model.compile(optimizer='adam', loss='mse')\n",
    "    return model"
   ]
  },
  {
   "cell_type": "markdown",
   "metadata": {},
   "source": [
    "# #TODO: Complete the Q-Training Algorithm Code Block\n",
    "\n",
    "This is your deep Q-learning implementation. The goal of your deep Q-learning implementation is to find the best possible navigation sequence that results in reaching the treasure cell while maximizing the reward. In your implementation, you need to determine the optimal number of epochs to achieve a 100% win rate.\n",
    "\n",
    "You will need to complete the section starting with #pseudocode. The pseudocode has been included for you."
   ]
  },
  {
   "cell_type": "code",
   "execution_count": 51,
   "metadata": {},
   "outputs": [],
   "source": [
    "def qtrain(model, maze, **opt):\n",
    "\n",
    "    # exploration factor\n",
    "    global epsilon \n",
    "\n",
    "    # number of epochs\n",
    "    n_epoch = opt.get('n_epoch', 15000)\n",
    "\n",
    "    # maximum memory to store episodes\n",
    "    max_memory = opt.get('max_memory', 1000)\n",
    "\n",
    "    # maximum data size for training\n",
    "    data_size = opt.get('data_size', 50)\n",
    "\n",
    "    # start time\n",
    "    start_time = datetime.datetime.now()\n",
    "\n",
    "    # Construct environment/game from numpy array: maze (see above)\n",
    "    qmaze = TreasureMaze(maze)\n",
    "\n",
    "    # Initialize experience replay object\n",
    "    experience = GameExperience(model, max_memory=max_memory)\n",
    "    \n",
    "    win_history = []   # history of win/lose game\n",
    "    hsize = qmaze.maze.size//2   # history window size\n",
    "    win_rate = 0.0\n",
    "    \n",
    "    # pseudocode:\n",
    "    #variables\n",
    "    n_episodes = 0\n",
    "    EXPLORATION_MAX = 1.0\n",
    "    EXPLORATION_MIN = 0.05\n",
    "    EXPLORATION_DECAY = 0.99\n",
    "    #initialize to maximum exploration\n",
    "    exploration_rate = epsilon\n",
    "    # For each epoch:\n",
    "    for epoch in range(n_epoch):\n",
    "    #    Agent_cell = randomly select a free cell\n",
    "        agent_cell = random.choice(qmaze.free_cells)\n",
    "    #    Reset the maze with agent set to above position\n",
    "    #    Hint: Review the reset method in the TreasureMaze.py class.\n",
    "        qmaze.reset(agent_cell)\n",
    "    #    envstate = Environment.current_state\n",
    "    #    Hint: Review the observe method in the TreasureMaze.py class.\n",
    "        envstate = qmaze.observe()\n",
    "        #boolean used in while loop for episodes\n",
    "        game_over = False\n",
    "        #array to show number of random acts\n",
    "        random_acts = []\n",
    "        #array to show number of predicted acts\n",
    "        predicted_acts = []\n",
    "    #    While state is not game over:\n",
    "        while game_over is False:\n",
    "            #provides list of valid actions\n",
    "            valid_actions = qmaze.valid_actions()\n",
    "    #        previous_envstate = envstate\n",
    "            previous_envstate = envstate      \n",
    "    #        Action = randomly choose action (left, right, up, down) either by exploration or by exploitation\n",
    "            action = random.choice(valid_actions)\n",
    "            #if statement to determine when to act by memory or to act by random actions\n",
    "            if np.random.rand() < exploration_rate:\n",
    "    #        envstate, reward, game_status = qmaze.act(action)\n",
    "    #    Hint: Review the act method in the TreasureMaze.py class.\n",
    "                envstate, reward, game_status = qmaze.act(action)\n",
    "                random_acts.append(1)\n",
    "            else:\n",
    "                q = model.predict(previous_envstate)\n",
    "                action = np.argmax(q[0])\n",
    "                envstate, reward, game_status = qmaze.act(action)\n",
    "                predicted_acts.append(1)\n",
    "    #        episode = [previous_envstate, action, reward, envstate, game_status]\n",
    "            episode = [previous_envstate, action, reward, envstate, game_status]\n",
    "            n_episodes += 1\n",
    "    #        Store episode in Experience replay object\n",
    "    #    Hint: Review the remember method in the GameExperience.py class.\n",
    "            experience.remember(episode)\n",
    "    #        Train neural network model and evaluate loss\n",
    "    #    Hint: Call GameExperience.get_data to retrieve training data (input and target) and pass to model.fit method \n",
    "            inputs, targets = experience.get_data(data_size=data_size)\n",
    "            history = model.fit(inputs, targets, epochs=8, batch_size=16, verbose=0)\n",
    "    #          to train the model. You can call model.evaluate to determine loss.\n",
    "    #    If the win rate is above the threshold and your model passes the completion check, that would be your epoch.\n",
    "            #obtains loss\n",
    "            loss = model.evaluate(inputs, targets, verbose=0)\n",
    "            #check for win\n",
    "            if game_status == \"win\":\n",
    "                win_history.append(1)\n",
    "                show(qmaze)\n",
    "                print(\"Random:\" + str(sum(random_acts)))\n",
    "                print(\"Predicted:\" + str(sum(predicted_acts)))\n",
    "                game_over = True\n",
    "            #check for loss\n",
    "            elif game_status == \"lose\":\n",
    "                win_history.append(0)\n",
    "                show(qmaze)\n",
    "                print(\"Random:\" + str(sum(random_acts)))\n",
    "                print(\"Predicted:\" + str(sum(predicted_acts)))\n",
    "                game_over = True\n",
    "            #check if game is not finished\n",
    "            else:\n",
    "                game_over = False\n",
    "        epoch += 1\n",
    "        #decay exploration rate to decrease exploration over time\n",
    "        if exploration_rate > EXPLORATION_MIN:\n",
    "            exploration_rate *= EXPLORATION_DECAY\n",
    "        #calculate win rate\n",
    "        if len(win_history) > hsize:\n",
    "            win_rate = sum(win_history[-hsize:])/hsize\n",
    "        \n",
    "            \n",
    "\n",
    "\n",
    "    #Print the epoch, loss, episodes, win count, and win rate for each epoch\n",
    "        dt = datetime.datetime.now() - start_time\n",
    "        t = format_time(dt.total_seconds())\n",
    "        template = \"Epoch: {:03d}/{:d} | Loss: {:.4f} | Episodes: {:d} | Win count: {:d} | Win rate: {:.3f} | time: {}\"\n",
    "        print(template.format(epoch, n_epoch-1, loss, n_episodes, sum(win_history), win_rate, t))\n",
    "        # We simply check if training has exhausted all free cells and if in all\n",
    "        # cases the agent won.\n",
    "        if win_rate > 0.9 : epsilon = 0.05\n",
    "        if sum(win_history[-hsize:]) == hsize and completion_check(model, qmaze):\n",
    "            print(\"Reached 100%% win rate at epoch: %d\" % (epoch,))\n",
    "            break\n",
    "    \n",
    "    \n",
    "    # Determine the total time for training\n",
    "    dt = datetime.datetime.now() - start_time\n",
    "    seconds = dt.total_seconds()\n",
    "    t = format_time(seconds)\n",
    "\n",
    "    print(\"n_epoch: %d, max_mem: %d, data: %d, time: %s\" % (epoch, max_memory, data_size, t))\n",
    "    return seconds\n",
    "\n",
    "# This is a small utility for printing readable time strings:\n",
    "def format_time(seconds):\n",
    "    if seconds < 400:\n",
    "        s = float(seconds)\n",
    "        return \"%.1f seconds\" % (s,)\n",
    "    elif seconds < 4000:\n",
    "        m = seconds / 60.0\n",
    "        return \"%.2f minutes\" % (m,)\n",
    "    else:\n",
    "        h = seconds / 3600.0\n",
    "        return \"%.2f hours\" % (h,)"
   ]
  },
  {
   "cell_type": "markdown",
   "metadata": {},
   "source": [
    "## Test Your Model\n",
    "\n",
    "Now we will start testing the deep Q-learning implementation. To begin, select **Cell**, then **Run All** from the menu bar. This will run your notebook. As it runs, you should see output begin to appear beneath the next few cells. The code below creates an instance of TreasureMaze."
   ]
  },
  {
   "cell_type": "code",
   "execution_count": 52,
   "metadata": {},
   "outputs": [
    {
     "data": {
      "text/plain": [
       "<matplotlib.image.AxesImage at 0x22189f837c8>"
      ]
     },
     "execution_count": 52,
     "metadata": {},
     "output_type": "execute_result"
    },
    {
     "data": {
      "image/png": "[encoded data removed]",
      "text/plain": [
       "<Figure size 432x288 with 1 Axes>"
      ]
     },
     "metadata": {
      "needs_background": "light"
     },
     "output_type": "display_data"
    }
   ],
   "source": [
    "qmaze = TreasureMaze(maze)\n",
    "show(qmaze)"
   ]
  },
  {
   "cell_type": "markdown",
   "metadata": {},
   "source": [
    "In the next code block, you will build your model and train it using deep Q-learning. Note: This step takes several minutes to fully run."
   ]
  },
  {
   "cell_type": "code",
   "execution_count": 53,
   "metadata": {},
   "outputs": [
    {
     "name": "stdout",
     "output_type": "stream",
     "text": [
      "Random:8\n",
      "Predicted:125\n",
      "Epoch: 001/14999 | Loss: 0.0036 | Episodes: 133 | Win count: 0 | Win rate: 0.000 | time: 17.1 seconds\n",
      "Random:20\n",
      "Predicted:136\n",
      "Epoch: 002/14999 | Loss: 0.0017 | Episodes: 289 | Win count: 0 | Win rate: 0.000 | time: 38.7 seconds\n",
      "Random:15\n",
      "Predicted:131\n",
      "Epoch: 003/14999 | Loss: 0.0006 | Episodes: 435 | Win count: 0 | Win rate: 0.000 | time: 61.3 seconds\n",
      "Random:16\n",
      "Predicted:135\n",
      "Epoch: 004/14999 | Loss: 0.0009 | Episodes: 586 | Win count: 0 | Win rate: 0.000 | time: 83.8 seconds\n",
      "Random:4\n",
      "Predicted:80\n",
      "Epoch: 005/14999 | Loss: 0.0010 | Episodes: 670 | Win count: 1 | Win rate: 0.000 | time: 95.1 seconds\n",
      "Random:1\n",
      "Predicted:16\n",
      "Epoch: 006/14999 | Loss: 0.0007 | Episodes: 687 | Win count: 2 | Win rate: 0.000 | time: 97.9 seconds\n",
      "Random:2\n",
      "Predicted:10\n",
      "Epoch: 007/14999 | Loss: 0.0008 | Episodes: 699 | Win count: 3 | Win rate: 0.000 | time: 100.1 seconds\n",
      "Random:0\n",
      "Predicted:7\n",
      "Epoch: 008/14999 | Loss: 0.0013 | Episodes: 706 | Win count: 4 | Win rate: 0.000 | time: 101.2 seconds\n",
      "Random:0\n",
      "Predicted:12\n",
      "Epoch: 009/14999 | Loss: 0.0013 | Episodes: 718 | Win count: 5 | Win rate: 0.000 | time: 103.1 seconds\n",
      "Random:0\n",
      "Predicted:7\n",
      "Epoch: 010/14999 | Loss: 0.0024 | Episodes: 725 | Win count: 6 | Win rate: 0.000 | time: 104.2 seconds\n",
      "Random:0\n",
      "Predicted:7\n",
      "Epoch: 011/14999 | Loss: 0.0026 | Episodes: 732 | Win count: 7 | Win rate: 0.000 | time: 105.2 seconds\n",
      "Random:6\n",
      "Predicted:91\n",
      "Epoch: 012/14999 | Loss: 0.0011 | Episodes: 829 | Win count: 8 | Win rate: 0.000 | time: 119.3 seconds\n",
      "Random:0\n",
      "Predicted:4\n",
      "Epoch: 013/14999 | Loss: 0.0011 | Episodes: 833 | Win count: 9 | Win rate: 0.000 | time: 119.9 seconds\n",
      "Random:1\n",
      "Predicted:6\n",
      "Epoch: 014/14999 | Loss: 0.0008 | Episodes: 840 | Win count: 10 | Win rate: 0.000 | time: 120.8 seconds\n",
      "Random:0\n",
      "Predicted:6\n",
      "Epoch: 015/14999 | Loss: 0.0007 | Episodes: 846 | Win count: 11 | Win rate: 0.000 | time: 121.7 seconds\n",
      "Random:6\n",
      "Predicted:59\n",
      "Epoch: 016/14999 | Loss: 0.0006 | Episodes: 911 | Win count: 12 | Win rate: 0.000 | time: 131.2 seconds\n",
      "Random:2\n",
      "Predicted:13\n",
      "Epoch: 017/14999 | Loss: 0.0011 | Episodes: 926 | Win count: 13 | Win rate: 0.000 | time: 133.3 seconds\n",
      "Random:1\n",
      "Predicted:16\n",
      "Epoch: 018/14999 | Loss: 0.0008 | Episodes: 943 | Win count: 14 | Win rate: 0.000 | time: 135.7 seconds\n",
      "Random:8\n",
      "Predicted:50\n",
      "Epoch: 019/14999 | Loss: 0.0021 | Episodes: 1001 | Win count: 15 | Win rate: 0.000 | time: 144.6 seconds\n",
      "Random:4\n",
      "Predicted:56\n",
      "Epoch: 020/14999 | Loss: 0.0011 | Episodes: 1061 | Win count: 16 | Win rate: 0.000 | time: 153.8 seconds\n",
      "Random:0\n",
      "Predicted:2\n",
      "Epoch: 021/14999 | Loss: 0.0012 | Episodes: 1063 | Win count: 17 | Win rate: 0.000 | time: 154.2 seconds\n",
      "Random:0\n",
      "Predicted:5\n",
      "Epoch: 022/14999 | Loss: 0.0008 | Episodes: 1068 | Win count: 18 | Win rate: 0.000 | time: 155.0 seconds\n",
      "Random:7\n",
      "Predicted:127\n",
      "Epoch: 023/14999 | Loss: 0.0005 | Episodes: 1202 | Win count: 18 | Win rate: 0.000 | time: 173.7 seconds\n",
      "Random:5\n",
      "Predicted:29\n",
      "Epoch: 024/14999 | Loss: 0.0006 | Episodes: 1236 | Win count: 19 | Win rate: 0.000 | time: 178.8 seconds\n",
      "Random:5\n",
      "Predicted:56\n",
      "Epoch: 025/14999 | Loss: 0.0010 | Episodes: 1297 | Win count: 20 | Win rate: 0.000 | time: 187.5 seconds\n",
      "Random:0\n",
      "Predicted:10\n",
      "Epoch: 026/14999 | Loss: 0.0009 | Episodes: 1307 | Win count: 21 | Win rate: 0.000 | time: 188.9 seconds\n",
      "Random:1\n",
      "Predicted:7\n",
      "Epoch: 027/14999 | Loss: 0.0010 | Episodes: 1315 | Win count: 22 | Win rate: 0.000 | time: 189.9 seconds\n",
      "Random:1\n",
      "Predicted:6\n",
      "Epoch: 028/14999 | Loss: 0.0003 | Episodes: 1322 | Win count: 23 | Win rate: 0.000 | time: 190.9 seconds\n",
      "Random:3\n",
      "Predicted:11\n",
      "Epoch: 029/14999 | Loss: 0.0011 | Episodes: 1336 | Win count: 24 | Win rate: 0.000 | time: 192.6 seconds\n",
      "Random:2\n",
      "Predicted:23\n",
      "Epoch: 030/14999 | Loss: 0.0014 | Episodes: 1361 | Win count: 25 | Win rate: 0.000 | time: 195.9 seconds\n",
      "Random:1\n",
      "Predicted:3\n",
      "Epoch: 031/14999 | Loss: 0.0023 | Episodes: 1365 | Win count: 26 | Win rate: 0.000 | time: 196.3 seconds\n",
      "Random:1\n",
      "Predicted:17\n",
      "Epoch: 032/14999 | Loss: 0.0005 | Episodes: 1383 | Win count: 27 | Win rate: 0.000 | time: 198.9 seconds\n",
      "Random:0\n",
      "Predicted:3\n",
      "Epoch: 033/14999 | Loss: 0.0009 | Episodes: 1386 | Win count: 28 | Win rate: 0.875 | time: 199.3 seconds\n",
      "Random:2\n",
      "Predicted:13\n",
      "Epoch: 034/14999 | Loss: 0.0007 | Episodes: 1401 | Win count: 29 | Win rate: 0.906 | time: 201.6 seconds\n",
      "Random:0\n",
      "Predicted:17\n",
      "Epoch: 035/14999 | Loss: 0.0014 | Episodes: 1418 | Win count: 30 | Win rate: 0.938 | time: 204.2 seconds\n",
      "Random:6\n",
      "Predicted:91\n",
      "Epoch: 036/14999 | Loss: 0.0004 | Episodes: 1515 | Win count: 31 | Win rate: 0.969 | time: 217.8 seconds\n",
      "Random:2\n",
      "Predicted:16\n",
      "Epoch: 037/14999 | Loss: 0.0005 | Episodes: 1533 | Win count: 32 | Win rate: 0.969 | time: 220.5 seconds\n",
      "Random:3\n",
      "Predicted:29\n",
      "Epoch: 038/14999 | Loss: 0.0003 | Episodes: 1565 | Win count: 33 | Win rate: 0.969 | time: 225.0 seconds\n",
      "Random:0\n",
      "Predicted:42\n",
      "Epoch: 039/14999 | Loss: 0.0006 | Episodes: 1607 | Win count: 34 | Win rate: 0.969 | time: 230.8 seconds\n",
      "Random:1\n",
      "Predicted:23\n",
      "Epoch: 040/14999 | Loss: 0.0003 | Episodes: 1631 | Win count: 35 | Win rate: 0.969 | time: 235.1 seconds\n",
      "Random:1\n",
      "Predicted:20\n",
      "Epoch: 041/14999 | Loss: 0.0011 | Episodes: 1652 | Win count: 36 | Win rate: 0.969 | time: 238.0 seconds\n",
      "Random:1\n",
      "Predicted:22\n",
      "Epoch: 042/14999 | Loss: 0.0001 | Episodes: 1675 | Win count: 37 | Win rate: 0.969 | time: 241.7 seconds\n",
      "Random:0\n",
      "Predicted:7\n",
      "Epoch: 043/14999 | Loss: 0.0004 | Episodes: 1682 | Win count: 38 | Win rate: 0.969 | time: 242.7 seconds\n",
      "Random:1\n",
      "Predicted:16\n",
      "Epoch: 044/14999 | Loss: 0.0007 | Episodes: 1699 | Win count: 39 | Win rate: 0.969 | time: 245.3 seconds\n",
      "Random:1\n",
      "Predicted:11\n",
      "Epoch: 045/14999 | Loss: 0.0002 | Episodes: 1711 | Win count: 40 | Win rate: 0.969 | time: 247.1 seconds\n",
      "Random:1\n",
      "Predicted:6\n",
      "Epoch: 046/14999 | Loss: 0.0003 | Episodes: 1718 | Win count: 41 | Win rate: 0.969 | time: 248.4 seconds\n",
      "Random:3\n",
      "Predicted:38\n",
      "Epoch: 047/14999 | Loss: 0.0001 | Episodes: 1759 | Win count: 42 | Win rate: 0.969 | time: 254.0 seconds\n",
      "Random:0\n",
      "Predicted:1\n",
      "Epoch: 048/14999 | Loss: 0.0005 | Episodes: 1760 | Win count: 43 | Win rate: 0.969 | time: 254.2 seconds\n",
      "Random:5\n",
      "Predicted:17\n",
      "Epoch: 049/14999 | Loss: 0.0008 | Episodes: 1782 | Win count: 44 | Win rate: 0.969 | time: 257.4 seconds\n",
      "Random:0\n",
      "Predicted:13\n",
      "Epoch: 050/14999 | Loss: 0.0004 | Episodes: 1795 | Win count: 45 | Win rate: 0.969 | time: 259.4 seconds\n",
      "Random:0\n",
      "Predicted:7\n",
      "Epoch: 051/14999 | Loss: 0.0003 | Episodes: 1802 | Win count: 46 | Win rate: 0.969 | time: 260.3 seconds\n",
      "Random:0\n",
      "Predicted:1\n",
      "Epoch: 052/14999 | Loss: 0.0006 | Episodes: 1803 | Win count: 47 | Win rate: 0.969 | time: 260.5 seconds\n",
      "Random:5\n",
      "Predicted:33\n",
      "Epoch: 053/14999 | Loss: 0.0011 | Episodes: 1841 | Win count: 48 | Win rate: 0.969 | time: 266.2 seconds\n",
      "Random:1\n",
      "Predicted:4\n",
      "Epoch: 054/14999 | Loss: 0.0010 | Episodes: 1846 | Win count: 49 | Win rate: 0.969 | time: 267.0 seconds\n",
      "Random:0\n",
      "Predicted:15\n",
      "Epoch: 055/14999 | Loss: 0.0005 | Episodes: 1861 | Win count: 50 | Win rate: 1.000 | time: 269.2 seconds\n",
      "Random:0\n",
      "Predicted:2\n",
      "Epoch: 056/14999 | Loss: 0.0007 | Episodes: 1863 | Win count: 51 | Win rate: 1.000 | time: 269.7 seconds\n",
      "Random:1\n",
      "Predicted:9\n",
      "Epoch: 057/14999 | Loss: 0.0013 | Episodes: 1873 | Win count: 52 | Win rate: 1.000 | time: 270.9 seconds\n",
      "Random:1\n",
      "Predicted:29\n",
      "Epoch: 058/14999 | Loss: 0.0003 | Episodes: 1903 | Win count: 53 | Win rate: 1.000 | time: 275.4 seconds\n",
      "Random:1\n",
      "Predicted:16\n",
      "Epoch: 059/14999 | Loss: 0.0010 | Episodes: 1920 | Win count: 54 | Win rate: 1.000 | time: 278.5 seconds\n",
      "Random:1\n",
      "Predicted:11\n",
      "Epoch: 060/14999 | Loss: 0.0003 | Episodes: 1932 | Win count: 55 | Win rate: 1.000 | time: 280.5 seconds\n",
      "Random:1\n",
      "Predicted:8\n",
      "Epoch: 061/14999 | Loss: 0.0001 | Episodes: 1941 | Win count: 56 | Win rate: 1.000 | time: 282.1 seconds\n",
      "Random:0\n",
      "Predicted:14\n",
      "Epoch: 062/14999 | Loss: 0.0004 | Episodes: 1955 | Win count: 57 | Win rate: 1.000 | time: 284.2 seconds\n",
      "Random:0\n",
      "Predicted:17\n",
      "Epoch: 063/14999 | Loss: 0.0004 | Episodes: 1972 | Win count: 58 | Win rate: 1.000 | time: 286.9 seconds\n",
      "Random:1\n",
      "Predicted:8\n",
      "Epoch: 064/14999 | Loss: 0.0011 | Episodes: 1981 | Win count: 59 | Win rate: 1.000 | time: 288.2 seconds\n",
      "Random:0\n",
      "Predicted:21\n",
      "Epoch: 065/14999 | Loss: 0.0003 | Episodes: 2002 | Win count: 60 | Win rate: 1.000 | time: 291.3 seconds\n"
     ]
    },
    {
     "name": "stdout",
     "output_type": "stream",
     "text": [
      "Random:2\n",
      "Predicted:38\n",
      "Epoch: 066/14999 | Loss: 0.0008 | Episodes: 2042 | Win count: 61 | Win rate: 1.000 | time: 296.9 seconds\n",
      "Random:0\n",
      "Predicted:3\n",
      "Epoch: 067/14999 | Loss: 0.0004 | Episodes: 2045 | Win count: 62 | Win rate: 1.000 | time: 297.4 seconds\n",
      "Random:0\n",
      "Predicted:2\n",
      "Epoch: 068/14999 | Loss: 0.0007 | Episodes: 2047 | Win count: 63 | Win rate: 1.000 | time: 297.9 seconds\n",
      "Random:0\n",
      "Predicted:1\n",
      "Epoch: 069/14999 | Loss: 0.0001 | Episodes: 2048 | Win count: 64 | Win rate: 1.000 | time: 298.5 seconds\n",
      "Random:2\n",
      "Predicted:23\n",
      "Epoch: 070/14999 | Loss: 0.0005 | Episodes: 2073 | Win count: 65 | Win rate: 1.000 | time: 302.6 seconds\n",
      "Random:0\n",
      "Predicted:1\n",
      "Epoch: 071/14999 | Loss: 0.0001 | Episodes: 2074 | Win count: 66 | Win rate: 1.000 | time: 302.9 seconds\n",
      "Random:2\n",
      "Predicted:35\n",
      "Epoch: 072/14999 | Loss: 0.0007 | Episodes: 2111 | Win count: 67 | Win rate: 1.000 | time: 308.0 seconds\n",
      "Random:2\n",
      "Predicted:24\n",
      "Epoch: 073/14999 | Loss: 0.0006 | Episodes: 2137 | Win count: 68 | Win rate: 1.000 | time: 311.5 seconds\n",
      "Random:2\n",
      "Predicted:17\n",
      "Epoch: 074/14999 | Loss: 0.0009 | Episodes: 2156 | Win count: 69 | Win rate: 1.000 | time: 314.5 seconds\n",
      "Random:0\n",
      "Predicted:13\n",
      "Epoch: 075/14999 | Loss: 0.0006 | Episodes: 2169 | Win count: 70 | Win rate: 1.000 | time: 317.0 seconds\n",
      "Random:2\n",
      "Predicted:27\n",
      "Epoch: 076/14999 | Loss: 0.0010 | Episodes: 2198 | Win count: 71 | Win rate: 1.000 | time: 321.9 seconds\n",
      "Random:1\n",
      "Predicted:2\n",
      "Epoch: 077/14999 | Loss: 0.0008 | Episodes: 2201 | Win count: 72 | Win rate: 1.000 | time: 322.5 seconds\n",
      "Random:1\n",
      "Predicted:32\n",
      "Epoch: 078/14999 | Loss: 0.0001 | Episodes: 2234 | Win count: 73 | Win rate: 1.000 | time: 327.5 seconds\n",
      "Random:0\n",
      "Predicted:3\n",
      "Epoch: 079/14999 | Loss: 0.0009 | Episodes: 2237 | Win count: 74 | Win rate: 1.000 | time: 328.0 seconds\n",
      "Random:2\n",
      "Predicted:19\n",
      "Epoch: 080/14999 | Loss: 0.0004 | Episodes: 2258 | Win count: 75 | Win rate: 1.000 | time: 331.1 seconds\n",
      "Random:0\n",
      "Predicted:14\n",
      "Epoch: 081/14999 | Loss: 0.0008 | Episodes: 2272 | Win count: 76 | Win rate: 1.000 | time: 333.4 seconds\n",
      "Random:2\n",
      "Predicted:29\n",
      "Epoch: 082/14999 | Loss: 0.0001 | Episodes: 2303 | Win count: 77 | Win rate: 1.000 | time: 338.8 seconds\n",
      "Random:3\n",
      "Predicted:6\n",
      "Epoch: 083/14999 | Loss: 0.0000 | Episodes: 2312 | Win count: 78 | Win rate: 1.000 | time: 340.2 seconds\n",
      "Random:0\n",
      "Predicted:5\n",
      "Epoch: 084/14999 | Loss: 0.0001 | Episodes: 2317 | Win count: 79 | Win rate: 1.000 | time: 341.2 seconds\n",
      "Random:0\n",
      "Predicted:16\n",
      "Epoch: 085/14999 | Loss: 0.0005 | Episodes: 2333 | Win count: 80 | Win rate: 1.000 | time: 343.9 seconds\n",
      "Random:0\n",
      "Predicted:11\n",
      "Epoch: 086/14999 | Loss: 0.0007 | Episodes: 2344 | Win count: 81 | Win rate: 1.000 | time: 346.0 seconds\n",
      "Random:1\n",
      "Predicted:9\n",
      "Epoch: 087/14999 | Loss: 0.0007 | Episodes: 2354 | Win count: 82 | Win rate: 1.000 | time: 348.1 seconds\n",
      "Random:0\n",
      "Predicted:24\n",
      "Epoch: 088/14999 | Loss: 0.0012 | Episodes: 2378 | Win count: 83 | Win rate: 1.000 | time: 351.8 seconds\n",
      "Random:0\n",
      "Predicted:28\n",
      "Epoch: 089/14999 | Loss: 0.0008 | Episodes: 2406 | Win count: 84 | Win rate: 1.000 | time: 356.6 seconds\n",
      "Random:0\n",
      "Predicted:19\n",
      "Epoch: 090/14999 | Loss: 0.0002 | Episodes: 2425 | Win count: 85 | Win rate: 1.000 | time: 359.4 seconds\n",
      "Random:0\n",
      "Predicted:37\n",
      "Epoch: 091/14999 | Loss: 0.0001 | Episodes: 2462 | Win count: 86 | Win rate: 1.000 | time: 366.6 seconds\n",
      "Random:0\n",
      "Predicted:9\n",
      "Epoch: 092/14999 | Loss: 0.0000 | Episodes: 2471 | Win count: 87 | Win rate: 1.000 | time: 369.1 seconds\n",
      "Random:0\n",
      "Predicted:1\n",
      "Epoch: 093/14999 | Loss: 0.0004 | Episodes: 2472 | Win count: 88 | Win rate: 1.000 | time: 369.4 seconds\n",
      "Random:2\n",
      "Predicted:26\n",
      "Epoch: 094/14999 | Loss: 0.0005 | Episodes: 2500 | Win count: 89 | Win rate: 1.000 | time: 373.9 seconds\n",
      "Random:0\n",
      "Predicted:17\n",
      "Epoch: 095/14999 | Loss: 0.0002 | Episodes: 2517 | Win count: 90 | Win rate: 1.000 | time: 376.4 seconds\n",
      "Random:0\n",
      "Predicted:9\n",
      "Epoch: 096/14999 | Loss: 0.0007 | Episodes: 2526 | Win count: 91 | Win rate: 1.000 | time: 378.3 seconds\n",
      "Random:2\n",
      "Predicted:9\n",
      "Epoch: 097/14999 | Loss: 0.0012 | Episodes: 2537 | Win count: 92 | Win rate: 1.000 | time: 380.0 seconds\n",
      "Random:2\n",
      "Predicted:32\n",
      "Epoch: 098/14999 | Loss: 0.0003 | Episodes: 2571 | Win count: 93 | Win rate: 1.000 | time: 385.9 seconds\n",
      "Random:1\n",
      "Predicted:30\n",
      "Epoch: 099/14999 | Loss: 0.0004 | Episodes: 2602 | Win count: 94 | Win rate: 1.000 | time: 390.9 seconds\n",
      "Random:0\n",
      "Predicted:10\n",
      "Epoch: 100/14999 | Loss: 0.0004 | Episodes: 2612 | Win count: 95 | Win rate: 1.000 | time: 392.6 seconds\n",
      "Random:4\n",
      "Predicted:37\n",
      "Epoch: 101/14999 | Loss: 0.0005 | Episodes: 2653 | Win count: 96 | Win rate: 1.000 | time: 399.9 seconds\n",
      "Random:2\n",
      "Predicted:18\n",
      "Epoch: 102/14999 | Loss: 0.0002 | Episodes: 2673 | Win count: 97 | Win rate: 1.000 | time: 6.73 minutes\n",
      "Random:2\n",
      "Predicted:16\n",
      "Epoch: 103/14999 | Loss: 0.0007 | Episodes: 2691 | Win count: 98 | Win rate: 1.000 | time: 6.79 minutes\n",
      "Random:4\n",
      "Predicted:32\n",
      "Epoch: 104/14999 | Loss: 0.0005 | Episodes: 2727 | Win count: 99 | Win rate: 1.000 | time: 6.90 minutes\n",
      "Random:0\n",
      "Predicted:13\n",
      "Epoch: 105/14999 | Loss: 0.0006 | Episodes: 2740 | Win count: 100 | Win rate: 1.000 | time: 6.94 minutes\n",
      "Random:1\n",
      "Predicted:19\n",
      "Epoch: 106/14999 | Loss: 0.0000 | Episodes: 2760 | Win count: 101 | Win rate: 1.000 | time: 7.01 minutes\n",
      "Random:0\n",
      "Predicted:16\n",
      "Epoch: 107/14999 | Loss: 0.0001 | Episodes: 2776 | Win count: 102 | Win rate: 1.000 | time: 7.07 minutes\n",
      "Random:4\n",
      "Predicted:24\n",
      "Epoch: 108/14999 | Loss: 0.0003 | Episodes: 2804 | Win count: 103 | Win rate: 1.000 | time: 7.15 minutes\n",
      "Random:0\n",
      "Predicted:9\n",
      "Epoch: 109/14999 | Loss: 0.0001 | Episodes: 2813 | Win count: 104 | Win rate: 1.000 | time: 7.18 minutes\n",
      "Random:0\n",
      "Predicted:24\n",
      "Epoch: 110/14999 | Loss: 0.0004 | Episodes: 2837 | Win count: 105 | Win rate: 1.000 | time: 7.26 minutes\n",
      "Random:6\n",
      "Predicted:42\n",
      "Epoch: 111/14999 | Loss: 0.0001 | Episodes: 2885 | Win count: 106 | Win rate: 1.000 | time: 7.40 minutes\n",
      "Random:4\n",
      "Predicted:32\n",
      "Epoch: 112/14999 | Loss: 0.0004 | Episodes: 2921 | Win count: 107 | Win rate: 1.000 | time: 7.51 minutes\n",
      "Random:4\n",
      "Predicted:28\n",
      "Epoch: 113/14999 | Loss: 0.0004 | Episodes: 2953 | Win count: 108 | Win rate: 1.000 | time: 7.59 minutes\n",
      "Reached 100% win rate at epoch: 113\n",
      "n_epoch: 113, max_mem: 512, data: 32, time: 7.61 minutes\n"
     ]
    },
    {
     "data": {
      "text/plain": [
       "456.402654"
      ]
     },
     "execution_count": 53,
     "metadata": {},
     "output_type": "execute_result"
    },
    {
     "data": {
      "image/png": "[encoded data removed]",
      "text/plain": [
       "<Figure size 432x288 with 1 Axes>"
      ]
     },
     "metadata": {
      "needs_background": "light"
     },
     "output_type": "display_data"
    }
   ],
   "source": [
    "model = build_model(maze)\n",
    "qtrain(model, maze, epochs=1000, max_memory=8*maze.size, data_size=32)"
   ]
  },
  {
   "cell_type": "markdown",
   "metadata": {},
   "source": [
    "This cell will check to see if the model passes the completion check. Note: This could take several minutes."
   ]
  },
  {
   "cell_type": "code",
   "execution_count": 54,
   "metadata": {},
   "outputs": [
    {
     "data": {
      "text/plain": [
       "<matplotlib.image.AxesImage at 0x221900b6548>"
      ]
     },
     "execution_count": 54,
     "metadata": {},
     "output_type": "execute_result"
    },
    {
     "data": {
      "image/png": "[encoded data removed]",
      "text/plain": [
       "<Figure size 432x288 with 1 Axes>"
      ]
     },
     "metadata": {
      "needs_background": "light"
     },
     "output_type": "display_data"
    }
   ],
   "source": [
    "completion_check(model, qmaze)\n",
    "show(qmaze)"
   ]
  },
  {
   "cell_type": "markdown",
   "metadata": {},
   "source": [
    "This cell will test your model for one game. It will start the pirate at the top-left corner and run play_game. The agent should find a path from the starting position to the target (treasure). The treasure is located in the bottom-right corner."
   ]
  },
  {
   "cell_type": "code",
   "execution_count": 55,
   "metadata": {},
   "outputs": [
    {
     "data": {
      "text/plain": [
       "<matplotlib.image.AxesImage at 0x22190158b48>"
      ]
     },
     "execution_count": 55,
     "metadata": {},
     "output_type": "execute_result"
    },
    {
     "data": {
      "image/png": "[encoded data removed]",
      "text/plain": [
       "<Figure size 432x288 with 1 Axes>"
      ]
     },
     "metadata": {
      "needs_background": "light"
     },
     "output_type": "display_data"
    }
   ],
   "source": [
    "pirate_start = (0, 0)\n",
    "play_game(model, qmaze, pirate_start)\n",
    "show(qmaze)"
   ]
  },
  {
   "cell_type": "markdown",
   "metadata": {},
   "source": [
    "## Save and Submit Your Work\n",
    "After you have finished creating the code for your notebook, save your work. Make sure that your notebook contains your name in the filename (e.g. Doe_Jane_ProjectTwo.ipynb). This will help your instructor access and grade your work easily. Download a copy of your IPYNB file and submit it to Brightspace. Refer to the Jupyter Notebook in Apporto Tutorial if you need help with these tasks."
   ]
  }
 ],
 "metadata": {
  "kernelspec": {
   "display_name": "Python 3",
   "language": "python",
   "name": "python3"
  },
  "language_info": {
   "codemirror_mode": {
    "name": "ipython",
    "version": 3
   },
   "file_extension": ".py",
   "mimetype": "text/x-python",
   "name": "python",
   "nbconvert_exporter": "python",
   "pygments_lexer": "ipython3",
   "version": "3.7.4"
  }
 },
 "nbformat": 4,
 "nbformat_minor": 2
}
